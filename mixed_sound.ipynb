{
 "cells": [
  {
   "cell_type": "code",
   "execution_count": 1,
   "metadata": {},
   "outputs": [],
   "source": [
    "import librosa as lr \n",
    "import numpy as np\n",
    "import os"
   ]
  },
  {
   "cell_type": "code",
   "execution_count": 5,
   "metadata": {},
   "outputs": [],
   "source": [
    "#--------整理noise data------------------\n",
    "noise_list = []\n",
    "for file in os.listdir('10_noise'):\n",
    "    if '.wav' in file:\n",
    "        noise_list.append(os.path.join('10_noise',file))\n",
    "#----------------------------------------"
   ]
  },
  {
   "cell_type": "code",
   "execution_count": 6,
   "metadata": {},
   "outputs": [
    {
     "data": {
      "text/plain": [
       "['10_noise\\\\ambulance_passing.wav',\n",
       " '10_noise\\\\breaking_concrete.wav',\n",
       " '10_noise\\\\breaking_houses2.wav',\n",
       " '10_noise\\\\breaking_houses4.wav',\n",
       " '10_noise\\\\car_road.wav']"
      ]
     },
     "execution_count": 6,
     "metadata": {},
     "output_type": "execute_result"
    }
   ],
   "source": [
    "noise_list[:5]"
   ]
  },
  {
   "cell_type": "code",
   "execution_count": 7,
   "metadata": {},
   "outputs": [],
   "source": [
    "#---------整理clean data------------------\n",
    "filename_list = []\n",
    "for filename in os.listdir('clean'):\n",
    "    if '.' not in filename:\n",
    "        filename_list.append(filename)\n",
    "file_list = []\n",
    "for filename in filename_list:    \n",
    "    for file in os.listdir(os.path.join('clean',filename)):\n",
    "        if '.wav' in file:\n",
    "            file_list.append(os.path.join('clean',filename,file))\n",
    "file_list.sort()\n",
    "#------------------------------------------"
   ]
  },
  {
   "cell_type": "code",
   "execution_count": 8,
   "metadata": {},
   "outputs": [
    {
     "data": {
      "text/plain": [
       "['amanda', 'angelababy', 'bandie', 'blue', 'chris']"
      ]
     },
     "execution_count": 8,
     "metadata": {},
     "output_type": "execute_result"
    }
   ],
   "source": [
    "filename_list[:5]"
   ]
  },
  {
   "cell_type": "code",
   "execution_count": 11,
   "metadata": {},
   "outputs": [],
   "source": [
    "#-----------隨機混音開始---------------------\n",
    "if not os.path.isdir('mixed_all_snr'):\n",
    "    os.mkdir('mixed_all_snr')\n",
    "for file in file_list:\n",
    "    for noise_index in range(len(noise_list)):\n",
    "        snr = np.random.randint(-15,16)  #隨機取 snr的值\n",
    "\n",
    "        # noise_index = np.random.randint(0,len(noise_list))\n",
    "        cleanwav = file\n",
    "        noisewav = noise_list[noise_index]\n",
    "\n",
    "        noise,sr = lr.load(noisewav,sr=16000) # sr設置為None可取原檔案中的sample rate\n",
    "        clean,Sr = lr.load(cleanwav,sr=16000)\n",
    "\n",
    "        cleanenergy = np.sum(np.power(clean,2)) #np.power(a,2) = np.square(a)\n",
    "        # 隨機索引與clean長度相同的noise信號\n",
    "        ind = np.random.randint(1, len(noise) - len(clean) + 1)\n",
    "        noiselen=noise[ind:len(clean) + ind]\n",
    "        # 噪声语音能量  噪音的功率\n",
    "        noiseenergy = np.sum(np.power(noiselen,2))\n",
    "        # 噪声等级系数\n",
    "        noiseratio = np.sqrt((cleanenergy / noiseenergy) / (np.power(10, snr * 0.1)))\n",
    "        # 隨機索引與clean長度相同的noise信號\n",
    "        noisyAudio = clean + noise[ind:len(clean)+ind] * noiseratio\n",
    "\n",
    "        # write wav\n",
    "        noisywavname='./mixed_all_snr/'+cleanwav.split('\\\\')[-1].rstrip('.wav')+'_'+noisewav.split('\\\\')[-1].rstrip('.wav')+\"_snr\"+str(snr)+\".wav\"\n",
    "\n",
    "        # sf.write(noisywavname, noisyAudio, 16000)\n",
    "        lr.output.write_wav(noisywavname,noisyAudio,16000)"
   ]
  },
  {
   "cell_type": "code",
   "execution_count": null,
   "metadata": {},
   "outputs": [],
   "source": []
  }
 ],
 "metadata": {
  "kernelspec": {
   "display_name": "Python 3",
   "language": "python",
   "name": "python3"
  },
  "language_info": {
   "codemirror_mode": {
    "name": "ipython",
    "version": 3
   },
   "file_extension": ".py",
   "mimetype": "text/x-python",
   "name": "python",
   "nbconvert_exporter": "python",
   "pygments_lexer": "ipython3",
   "version": "3.7.6"
  }
 },
 "nbformat": 4,
 "nbformat_minor": 4
}
