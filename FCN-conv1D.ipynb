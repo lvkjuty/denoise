{
 "cells": [
  {
   "cell_type": "code",
   "execution_count": 1,
   "metadata": {},
   "outputs": [
    {
     "name": "stderr",
     "output_type": "stream",
     "text": [
      "Using TensorFlow backend.\n",
      "C:\\Users\\hsiaoen\\venv\\lib\\site-packages\\tensorflow\\python\\framework\\dtypes.py:516: FutureWarning: Passing (type, 1) or '1type' as a synonym of type is deprecated; in a future version of numpy, it will be understood as (type, (1,)) / '(1,)type'.\n",
      "  _np_qint8 = np.dtype([(\"qint8\", np.int8, 1)])\n",
      "C:\\Users\\hsiaoen\\venv\\lib\\site-packages\\tensorflow\\python\\framework\\dtypes.py:517: FutureWarning: Passing (type, 1) or '1type' as a synonym of type is deprecated; in a future version of numpy, it will be understood as (type, (1,)) / '(1,)type'.\n",
      "  _np_quint8 = np.dtype([(\"quint8\", np.uint8, 1)])\n",
      "C:\\Users\\hsiaoen\\venv\\lib\\site-packages\\tensorflow\\python\\framework\\dtypes.py:518: FutureWarning: Passing (type, 1) or '1type' as a synonym of type is deprecated; in a future version of numpy, it will be understood as (type, (1,)) / '(1,)type'.\n",
      "  _np_qint16 = np.dtype([(\"qint16\", np.int16, 1)])\n",
      "C:\\Users\\hsiaoen\\venv\\lib\\site-packages\\tensorflow\\python\\framework\\dtypes.py:519: FutureWarning: Passing (type, 1) or '1type' as a synonym of type is deprecated; in a future version of numpy, it will be understood as (type, (1,)) / '(1,)type'.\n",
      "  _np_quint16 = np.dtype([(\"quint16\", np.uint16, 1)])\n",
      "C:\\Users\\hsiaoen\\venv\\lib\\site-packages\\tensorflow\\python\\framework\\dtypes.py:520: FutureWarning: Passing (type, 1) or '1type' as a synonym of type is deprecated; in a future version of numpy, it will be understood as (type, (1,)) / '(1,)type'.\n",
      "  _np_qint32 = np.dtype([(\"qint32\", np.int32, 1)])\n",
      "C:\\Users\\hsiaoen\\venv\\lib\\site-packages\\tensorflow\\python\\framework\\dtypes.py:525: FutureWarning: Passing (type, 1) or '1type' as a synonym of type is deprecated; in a future version of numpy, it will be understood as (type, (1,)) / '(1,)type'.\n",
      "  np_resource = np.dtype([(\"resource\", np.ubyte, 1)])\n",
      "C:\\Users\\hsiaoen\\venv\\lib\\site-packages\\tensorboard\\compat\\tensorflow_stub\\dtypes.py:541: FutureWarning: Passing (type, 1) or '1type' as a synonym of type is deprecated; in a future version of numpy, it will be understood as (type, (1,)) / '(1,)type'.\n",
      "  _np_qint8 = np.dtype([(\"qint8\", np.int8, 1)])\n",
      "C:\\Users\\hsiaoen\\venv\\lib\\site-packages\\tensorboard\\compat\\tensorflow_stub\\dtypes.py:542: FutureWarning: Passing (type, 1) or '1type' as a synonym of type is deprecated; in a future version of numpy, it will be understood as (type, (1,)) / '(1,)type'.\n",
      "  _np_quint8 = np.dtype([(\"quint8\", np.uint8, 1)])\n",
      "C:\\Users\\hsiaoen\\venv\\lib\\site-packages\\tensorboard\\compat\\tensorflow_stub\\dtypes.py:543: FutureWarning: Passing (type, 1) or '1type' as a synonym of type is deprecated; in a future version of numpy, it will be understood as (type, (1,)) / '(1,)type'.\n",
      "  _np_qint16 = np.dtype([(\"qint16\", np.int16, 1)])\n",
      "C:\\Users\\hsiaoen\\venv\\lib\\site-packages\\tensorboard\\compat\\tensorflow_stub\\dtypes.py:544: FutureWarning: Passing (type, 1) or '1type' as a synonym of type is deprecated; in a future version of numpy, it will be understood as (type, (1,)) / '(1,)type'.\n",
      "  _np_quint16 = np.dtype([(\"quint16\", np.uint16, 1)])\n",
      "C:\\Users\\hsiaoen\\venv\\lib\\site-packages\\tensorboard\\compat\\tensorflow_stub\\dtypes.py:545: FutureWarning: Passing (type, 1) or '1type' as a synonym of type is deprecated; in a future version of numpy, it will be understood as (type, (1,)) / '(1,)type'.\n",
      "  _np_qint32 = np.dtype([(\"qint32\", np.int32, 1)])\n",
      "C:\\Users\\hsiaoen\\venv\\lib\\site-packages\\tensorboard\\compat\\tensorflow_stub\\dtypes.py:550: FutureWarning: Passing (type, 1) or '1type' as a synonym of type is deprecated; in a future version of numpy, it will be understood as (type, (1,)) / '(1,)type'.\n",
      "  np_resource = np.dtype([(\"resource\", np.ubyte, 1)])\n",
      "WARNING (theano.configdefaults): g++ not available, if using conda: `conda install m2w64-toolchain`\n",
      "C:\\Users\\hsiaoen\\venv\\lib\\site-packages\\theano\\configdefaults.py:560: UserWarning: DeprecationWarning: there is no c++ compiler.This is deprecated and with Theano 0.11 a c++ compiler will be mandatory\n",
      "  warnings.warn(\"DeprecationWarning: there is no c++ compiler.\"\n",
      "WARNING (theano.configdefaults): g++ not detected ! Theano will be unable to execute optimized C-implementations (for both CPU and GPU) and will default to Python implementations. Performance will be severely degraded. To remove this warning, set Theano flags cxx to an empty string.\n",
      "WARNING (theano.tensor.blas): Using NumPy C-API based implementation for BLAS functions.\n"
     ]
    }
   ],
   "source": [
    "import matplotlib\n",
    "# Force matplotlib to not use any Xwindows backend.\n",
    "# matplotlib.use('Agg')\n",
    "from matplotlib import pyplot as plt\n",
    "from keras.models import Sequential, model_from_json, load_model\n",
    "from keras.layers.core import Dense, Dropout, Flatten, Activation, SpatialDropout2D, Reshape, Lambda\n",
    "from keras.layers.normalization import BatchNormalization\n",
    "from keras.layers.advanced_activations import ELU, PReLU, LeakyReLU\n",
    "from keras.layers.convolutional import Conv1D\n",
    "from keras.layers.convolutional import Convolution1D\n",
    "from keras.optimizers import SGD\n",
    "from keras.callbacks import ModelCheckpoint\n",
    "from scipy.io import wavfile\n",
    "import pdb\n",
    "import scipy.io\n",
    "import librosa\n",
    "import os\n",
    "from os.path import join as ojoin\n",
    "# os.environ[\"CUDA_VISIBLE_DEVICES\"]=\"1\"\n",
    "\n",
    "import time  \n",
    "import numpy as np\n",
    "import numpy.matlib\n",
    "import argparse\n",
    "import random\n",
    "import theano\n",
    "# os.environ['KERAS_BACKEND'] = 'theano'\n",
    "# import theano.tensor as T\n",
    "import tensorflow as tf\n",
    "from keras.callbacks import TensorBoard\n",
    "import keras.backend.tensorflow_backend as KTF\n",
    "# from keras.utils import to_categorical,plot_model\n",
    "from ipykernel import kernelapp as app\n",
    "\n",
    "tf.reset_default_graph()\n"
   ]
  },
  {
   "cell_type": "code",
   "execution_count": 2,
   "metadata": {},
   "outputs": [
    {
     "name": "stdout",
     "output_type": "stream",
     "text": [
      "GPU found\n"
     ]
    }
   ],
   "source": [
    "if tf.test.gpu_device_name():\n",
    "    print('GPU found')\n",
    "else:\n",
    "    print(\"No GPU found\")\n",
    "config = tf.ConfigProto(log_device_placement=True)\n",
    "config.gpu_options.allow_growth=True\n",
    "session = tf.Session(config=config)\n",
    "KTF.set_session(session)\n",
    "random.seed(999)"
   ]
  },
  {
   "cell_type": "code",
   "execution_count": 3,
   "metadata": {},
   "outputs": [],
   "source": [
    "def get_filepaths(directory):\n",
    "    \"\"\"\n",
    "    This function will generate the file names in a directory \n",
    "    tree by walking the tree either top-down or bottom-up. For each \n",
    "    directory in the tree rooted at directory top (including top itself), \n",
    "    it yields a 3-tuple (dirpath, dirnames, filenames).\n",
    "    \"\"\"\n",
    "    file_paths = []  # List which will store all of the full filepaths.\n",
    "\n",
    "    # Walk the tree.\n",
    "\n",
    "    for root, directories, files in os.walk(directory):\n",
    "\n",
    "        for filename in files:\n",
    "            if filename.endswith('.wav'):\n",
    "            # Join the two strings in order to form the full filepath.\n",
    "                filepath = os.path.join(root, filename)\n",
    "                file_paths.append(filepath)  # Add it to the list.\n",
    "                # pdb.set_trace()\n",
    "\n",
    "    return file_paths  # Self-explanatory.\n",
    "mixed_file=get_filepaths('mixed_pos_snr')\n",
    "cleaned_file=get_filepaths('clean')\n",
    "pos=get_filepaths('mixed_pos_snr')"
   ]
  },
  {
   "cell_type": "code",
   "execution_count": 4,
   "metadata": {},
   "outputs": [],
   "source": [
    "#整理檔案路徑排序\n",
    "#確認乾淨的答案有對應到混音完的檔案\n",
    "clean_files=[]\n",
    "for i in mixed_file:\n",
    "    clean_file='_'.join(i.split('\\\\')[1].split('_')[:3])+'.wav'\n",
    "    for j in cleaned_file:\n",
    "#         print(j)\n",
    "        if clean_file == j.split('\\\\')[-1]:\n",
    "            clean_files.append(j)\n",
    "        "
   ]
  },
  {
   "cell_type": "code",
   "execution_count": 5,
   "metadata": {},
   "outputs": [
    {
     "data": {
      "text/plain": [
       "['clean\\\\amanda\\\\amanda_T01-10_20200626.wav',\n",
       " 'clean\\\\amanda\\\\amanda_T01-10_20200626.wav',\n",
       " 'clean\\\\amanda\\\\amanda_T01-10_20200626.wav',\n",
       " 'clean\\\\amanda\\\\amanda_T01-10_20200626.wav',\n",
       " 'clean\\\\amanda\\\\amanda_T01-10_20200626.wav',\n",
       " 'clean\\\\amanda\\\\amanda_T01-10_20200626.wav',\n",
       " 'clean\\\\amanda\\\\amanda_T01-10_20200626.wav',\n",
       " 'clean\\\\amanda\\\\amanda_T01-10_20200626.wav',\n",
       " 'clean\\\\amanda\\\\amanda_T01-10_20200626.wav',\n",
       " 'clean\\\\amanda\\\\amanda_T01-10_20200626.wav']"
      ]
     },
     "execution_count": 5,
     "metadata": {},
     "output_type": "execute_result"
    }
   ],
   "source": [
    "clean_files[:10]"
   ]
  },
  {
   "cell_type": "code",
   "execution_count": null,
   "metadata": {},
   "outputs": [],
   "source": [
    "##切分train-test data\n",
    "from sklearn.model_selection import train_test_split\n",
    "X_train, X_test, y_train, y_test = train_test_split(mixed_file,clean_files,test_size=0.33, random_state=42)    \n",
    "Train_Noisy_lists=X_train\n",
    "Train_Clean_paths= y_train\n",
    "\n",
    "Test_Noisy_lists  = X_test\n",
    "Test_Clean_paths = y_test\n",
    "          \n",
    "Num_testdata=len(Test_Noisy_lists)   \n",
    "Num_traindata=len(Train_Noisy_lists)"
   ]
  },
  {
   "cell_type": "code",
   "execution_count": null,
   "metadata": {},
   "outputs": [],
   "source": [
    "def train_data_generator(noisy_list, clean_path):\n",
    "    index=0\n",
    "    while True:\n",
    "        noisy, rate  = librosa.load(noisy_list[index],sr=16000) \n",
    "        # print(noisy_list[index],index)\n",
    "        # pdb.set_trace()\n",
    "\n",
    "        D=librosa.stft(noisy,n_fft=512,hop_length=256,win_length=512,center=False)\n",
    "        noisy = np.abs(D)\n",
    "        #轉向因為高固定 但長度不同\n",
    "        noisy = noisy.T\n",
    "        noisy=np.reshape(noisy,(1,np.shape(noisy)[0],np.shape(noisy)[1]))\n",
    "        noisy_shi=np.angle(D)\n",
    "\n",
    "\n",
    "        clean, rate  =librosa.load(clean_path[index],sr=16000) \n",
    "        D=librosa.stft(clean,n_fft=512,hop_length=256,win_length=512,center=False)\n",
    "        clean = np.abs(D)\n",
    "        #轉向因為高固定 但長度不同\n",
    "        clean = clean.T\n",
    "        clean=np.reshape(clean,(1,np.shape(clean)[0],np.shape(clean)[1]))\n",
    "        clean_shi=np.angle(D)\n",
    "\n",
    "        index += 1\n",
    "        if index == len(noisy_list):\n",
    "            index = 0\n",
    "\n",
    "        yield noisy, clean\n",
    "\n",
    "def val_data_generator(noisy_list, clean_path):\n",
    "    index=0\n",
    "    while True:\n",
    "        noisy, rate  = librosa.load(noisy_list[index],sr=16000)       \n",
    "        D=librosa.stft(noisy,n_fft=512,hop_length=256,win_length=512,center=False)\n",
    "        noisy = np.abs(D)\n",
    "        #轉向因為高固定 但長度不同\n",
    "        noisy = noisy.T\n",
    "        noisy=np.reshape(noisy,(1,np.shape(noisy)[0],np.shape(noisy)[1]))\n",
    "        noisy_shi=np.angle(D)\n",
    "          \n",
    "        clean, rate  =librosa.load(clean_path[index],sr=16000) \n",
    "        D=librosa.stft(clean,n_fft=512,hop_length=256,win_length=512,center=False)\n",
    "        clean = np.abs(D)\n",
    "        #轉向因為高固定 但長度不同\n",
    "        clean = clean.T\n",
    "        clean=np.reshape(clean,(1,np.shape(clean)[0],np.shape(clean)[1]))\n",
    "        clean_shi=np.angle(D)\n",
    "\n",
    "\n",
    "        index += 1\n",
    "        if index == len(noisy_list):\n",
    "            index = 0\n",
    "          \n",
    "        yield noisy, clean "
   ]
  },
  {
   "cell_type": "code",
   "execution_count": 7,
   "metadata": {
    "scrolled": true
   },
   "outputs": [
    {
     "name": "stdout",
     "output_type": "stream",
     "text": [
      "model building...\n",
      "WARNING:tensorflow:From C:\\Users\\hsiaoen\\venv\\lib\\site-packages\\keras\\backend\\tensorflow_backend.py:74: The name tf.get_default_graph is deprecated. Please use tf.compat.v1.get_default_graph instead.\n",
      "\n",
      "WARNING:tensorflow:From C:\\Users\\hsiaoen\\venv\\lib\\site-packages\\keras\\backend\\tensorflow_backend.py:517: The name tf.placeholder is deprecated. Please use tf.compat.v1.placeholder instead.\n",
      "\n",
      "WARNING:tensorflow:From C:\\Users\\hsiaoen\\venv\\lib\\site-packages\\keras\\backend\\tensorflow_backend.py:4138: The name tf.random_uniform is deprecated. Please use tf.random.uniform instead.\n",
      "\n",
      "WARNING:tensorflow:From C:\\Users\\hsiaoen\\venv\\lib\\site-packages\\keras\\backend\\tensorflow_backend.py:133: The name tf.placeholder_with_default is deprecated. Please use tf.compat.v1.placeholder_with_default instead.\n",
      "\n",
      "WARNING:tensorflow:From C:\\Users\\hsiaoen\\venv\\lib\\site-packages\\keras\\backend\\tensorflow_backend.py:3445: calling dropout (from tensorflow.python.ops.nn_ops) with keep_prob is deprecated and will be removed in a future version.\n",
      "Instructions for updating:\n",
      "Please use `rate` instead of `keep_prob`. Rate should be set to `rate = 1 - keep_prob`.\n",
      "_________________________________________________________________\n",
      "Layer (type)                 Output Shape              Param #   \n",
      "=================================================================\n",
      "conv1d_1 (Conv1D)            (None, None, 60)          848160    \n",
      "_________________________________________________________________\n",
      "batch_normalization_1 (Batch (None, None, 60)          240       \n",
      "_________________________________________________________________\n",
      "leaky_re_lu_1 (LeakyReLU)    (None, None, 60)          0         \n",
      "_________________________________________________________________\n",
      "dropout_1 (Dropout)          (None, None, 60)          0         \n",
      "_________________________________________________________________\n",
      "conv1d_2 (Conv1D)            (None, None, 80)          264080    \n",
      "_________________________________________________________________\n",
      "batch_normalization_2 (Batch (None, None, 80)          320       \n",
      "_________________________________________________________________\n",
      "leaky_re_lu_2 (LeakyReLU)    (None, None, 80)          0         \n",
      "_________________________________________________________________\n",
      "dropout_2 (Dropout)          (None, None, 80)          0         \n",
      "_________________________________________________________________\n",
      "conv1d_3 (Conv1D)            (None, None, 80)          352080    \n",
      "_________________________________________________________________\n",
      "batch_normalization_3 (Batch (None, None, 80)          320       \n",
      "_________________________________________________________________\n",
      "leaky_re_lu_3 (LeakyReLU)    (None, None, 80)          0         \n",
      "_________________________________________________________________\n",
      "dropout_3 (Dropout)          (None, None, 80)          0         \n",
      "_________________________________________________________________\n",
      "conv1d_4 (Conv1D)            (None, None, 100)         440100    \n",
      "_________________________________________________________________\n",
      "batch_normalization_4 (Batch (None, None, 100)         400       \n",
      "_________________________________________________________________\n",
      "leaky_re_lu_4 (LeakyReLU)    (None, None, 100)         0         \n",
      "_________________________________________________________________\n",
      "dropout_4 (Dropout)          (None, None, 100)         0         \n",
      "_________________________________________________________________\n",
      "conv1d_5 (Conv1D)            (None, None, 100)         550100    \n",
      "_________________________________________________________________\n",
      "batch_normalization_5 (Batch (None, None, 100)         400       \n",
      "_________________________________________________________________\n",
      "leaky_re_lu_5 (LeakyReLU)    (None, None, 100)         0         \n",
      "_________________________________________________________________\n",
      "dropout_5 (Dropout)          (None, None, 100)         0         \n",
      "_________________________________________________________________\n",
      "conv1d_6 (Conv1D)            (None, None, 120)         660120    \n",
      "_________________________________________________________________\n",
      "batch_normalization_6 (Batch (None, None, 120)         480       \n",
      "_________________________________________________________________\n",
      "leaky_re_lu_6 (LeakyReLU)    (None, None, 120)         0         \n",
      "_________________________________________________________________\n",
      "dropout_6 (Dropout)          (None, None, 120)         0         \n",
      "_________________________________________________________________\n",
      "conv1d_7 (Conv1D)            (None, None, 257)         1696457   \n",
      "_________________________________________________________________\n",
      "leaky_re_lu_7 (LeakyReLU)    (None, None, 257)         0         \n",
      "=================================================================\n",
      "Total params: 4,813,257\n",
      "Trainable params: 4,812,177\n",
      "Non-trainable params: 1,080\n",
      "_________________________________________________________________\n"
     ]
    }
   ],
   "source": [
    "start_time = time.time()\n",
    "\n",
    "print('model building...')\n",
    "\n",
    "model = Sequential()\n",
    "\n",
    "\n",
    "model.add(Conv1D(60, 55, padding='same', input_shape=(None,257)))\n",
    "model.add(BatchNormalization(axis=-1))\n",
    "model.add(LeakyReLU())\n",
    "model.add(Dropout(0.06))\n",
    "\n",
    "model.add(Conv1D(80, 55,  padding='same'))\n",
    "model.add(BatchNormalization(axis=-1))\n",
    "model.add(LeakyReLU())\n",
    "model.add(Dropout(0.06))\n",
    "\n",
    "model.add(Conv1D(80, 55,  padding='same'))\n",
    "model.add(BatchNormalization(axis=-1))\n",
    "model.add(LeakyReLU())\n",
    "model.add(Dropout(0.06))\n",
    "\n",
    "model.add(Conv1D(100, 55,  padding='same'))\n",
    "model.add(BatchNormalization(axis=-1))\n",
    "model.add(LeakyReLU())\n",
    "model.add(Dropout(0.06))\n",
    "\n",
    "model.add(Conv1D(100, 55,  padding='same'))\n",
    "model.add(BatchNormalization(axis=-1))\n",
    "model.add(LeakyReLU())\n",
    "model.add(Dropout(0.06))\n",
    "\n",
    "model.add(Conv1D(120, 55,  padding='same'))\n",
    "model.add(BatchNormalization(axis=-1))\n",
    "model.add(LeakyReLU())\n",
    "model.add(Dropout(0.06))\n",
    "\n",
    "model.add(Conv1D(257, 55,  padding='same'))\n",
    "# model.add(Activation('tanh'))\n",
    "model.add(LeakyReLU())\n",
    "\n",
    "\n",
    "# model.load_weights('firsttry')\n",
    "model.summary()\n",
    "\n",
    "#sgd = SGD(lr=0.001, decay=5*1e-8, momentum=0.9, nesterov=True)\n",
    "# plot_model(model,show_shapes = True)"
   ]
  },
  {
   "cell_type": "code",
   "execution_count": 9,
   "metadata": {},
   "outputs": [
    {
     "name": "stdout",
     "output_type": "stream",
     "text": [
      "WARNING:tensorflow:From C:\\Users\\hsiaoen\\venv\\lib\\site-packages\\keras\\optimizers.py:790: The name tf.train.Optimizer is deprecated. Please use tf.compat.v1.train.Optimizer instead.\n",
      "\n",
      "training...\n"
     ]
    },
    {
     "name": "stderr",
     "output_type": "stream",
     "text": [
      "C:\\Users\\hsiaoen\\venv\\lib\\site-packages\\ipykernel_launcher.py:33: UserWarning: The semantics of the Keras 2 argument `steps_per_epoch` is not the same as the Keras 1 argument `samples_per_epoch`. `steps_per_epoch` is the number of batches to draw from the generator at each epoch. Basically steps_per_epoch = samples_per_epoch/batch_size. Similarly `nb_val_samples`->`validation_steps` and `val_samples`->`steps` arguments have changed. Update your method calls accordingly.\n",
      "C:\\Users\\hsiaoen\\venv\\lib\\site-packages\\ipykernel_launcher.py:33: UserWarning: Update your `fit_generator` call to the Keras 2 API: `fit_generator(<generator..., verbose=1, validation_data=<generator..., steps_per_epoch=45024, epochs=5, validation_steps=22176, workers=1, use_multiprocessing=False, max_queue_size=1)`\n"
     ]
    },
    {
     "name": "stdout",
     "output_type": "stream",
     "text": [
      "WARNING:tensorflow:From C:\\Users\\hsiaoen\\venv\\lib\\site-packages\\keras\\backend\\tensorflow_backend.py:986: The name tf.assign_add is deprecated. Please use tf.compat.v1.assign_add instead.\n",
      "\n",
      "Epoch 1/5\n",
      "45024/45024 [==============================] - 1420s 32ms/step - loss: 0.0302 - val_loss: 0.0274\n",
      "Epoch 2/5\n",
      "45024/45024 [==============================] - 1622s 36ms/step - loss: 0.0224 - val_loss: 0.0295\n",
      "Epoch 3/5\n",
      "45024/45024 [==============================] - 1366s 30ms/step - loss: 0.0198 - val_loss: 0.0280\n",
      "Epoch 4/5\n",
      "45024/45024 [==============================] - 1369s 30ms/step - loss: 0.0182 - val_loss: 0.0276\n",
      "Epoch 5/5\n",
      "45024/45024 [==============================] - 1372s 30ms/step - loss: 0.0170 - val_loss: 0.0254\n"
     ]
    }
   ],
   "source": [
    "epoch=5\n",
    "batch_size=1\n",
    "# Adam=tf.keras.optimizers.Adam(lr=0.01)\n",
    "model.compile(loss='mse', optimizer='adam')\n",
    "    \n",
    "with open('{}.json'.format('firsttry'),'w') as f:    # save the model\n",
    "    f.write(model.to_json()) \n",
    "checkpointer = ModelCheckpoint(filepath='{}.hdf5'.format('firsttry'), verbose=1, save_best_only=True, mode='min')  \n",
    "\n",
    "print ('training...')\n",
    "\n",
    "g1 = train_data_generator(Train_Noisy_lists, Train_Clean_paths)\n",
    "g2 = val_data_generator(Test_Noisy_lists, Test_Clean_paths)\n",
    "\n",
    "tbCallBack = TensorBoard(log_dir='./logs',  # log 目录\n",
    "                 histogram_freq=0,  # 按照何等频率（epoch）来计算直方图，0为不计算\n",
    "#                  batch_size=32,     # 用多大量的数据计算直方图\n",
    "                 write_graph=True,  # 是否存储网络结构图\n",
    "                 write_grads=True, # 是否可视化梯度直方图\n",
    "                 write_images=True,# 是否可视化参数\n",
    "                 embeddings_freq=0, \n",
    "                 embeddings_layer_names=None, \n",
    "                 embeddings_metadata=None)\n",
    "hist=model.fit_generator(g1,\n",
    "                         samples_per_epoch=Num_traindata,\n",
    "                        # samples_per_epoch=50, \n",
    "                         nb_epoch=epoch, \n",
    "                         verbose=1,\n",
    "                         validation_data=g2,\n",
    "                         nb_val_samples=Num_testdata,\n",
    "                         max_q_size=1, \n",
    "                         nb_worker=1,\n",
    "                         pickle_safe=False,\n",
    "                         )                          "
   ]
  },
  {
   "cell_type": "code",
   "execution_count": 11,
   "metadata": {},
   "outputs": [],
   "source": [
    "#存h5檔\n",
    "sav=model.save('mixed_all_snr_raw_1dx9_15epoch.h5')\n",
    "sav"
   ]
  },
  {
   "cell_type": "code",
   "execution_count": 12,
   "metadata": {},
   "outputs": [
    {
     "name": "stdout",
     "output_type": "stream",
     "text": [
      "@0.025445, Minimun error:0.025445, at iteration: 5\n",
      "The code for this file ran for 120.30m\n"
     ]
    },
    {
     "name": "stderr",
     "output_type": "stream",
     "text": [
      "C:\\Users\\hsiaoen\\venv\\lib\\site-packages\\ipykernel_launcher.py:17: UserWarning: Matplotlib is currently using agg, which is a non-GUI backend, so cannot show the figure.\n"
     ]
    }
   ],
   "source": [
    "## 畫Loss圖\n",
    "\n",
    "# # plotting the learning curve\n",
    "TrainERR=hist.history['loss']\n",
    "ValidERR=hist.history['val_loss']\n",
    "print ('@%f, Minimun error:%f, at iteration: %i' % (hist.history['val_loss'][epoch-1], np.min(np.asarray(ValidERR)),np.argmin(np.asarray(ValidERR))+1))\n",
    "# print 'drawing the training process...'\n",
    "plt.clf()\n",
    "plt.figure(4)\n",
    "plt.plot(range(1,epoch+1),TrainERR,'b',label='TrainERR')\n",
    "plt.plot(range(1,epoch+1),ValidERR,'r',label='ValidERR')\n",
    "plt.xlim([1,epoch])\n",
    "plt.legend()\n",
    "plt.xlabel('epoch')\n",
    "plt.ylabel('error')\n",
    "plt.grid(True)\n",
    "plt.show()\n",
    "plt.savefig('Learning_curve_{sav}.png', dpi=150)\n",
    "\n",
    "\n",
    "end_time = time.time()\n",
    "print ('The code for this file ran for %.2fm' % ((end_time - start_time) / 60.))\n"
   ]
  },
  {
   "cell_type": "code",
   "execution_count": 13,
   "metadata": {},
   "outputs": [],
   "source": [
    "tf.reset_default_graph()"
   ]
  },
  {
   "cell_type": "code",
   "execution_count": 10,
   "metadata": {
    "scrolled": true
   },
   "outputs": [
    {
     "name": "stdout",
     "output_type": "stream",
     "text": [
      "(212, 257)\n",
      "(188, 257)\n",
      "(164, 257)\n",
      "(213, 257)\n",
      "(170, 257)\n",
      "(175, 257)\n",
      "(233, 257)\n",
      "(208, 257)\n",
      "(195, 257)\n",
      "(177, 257)\n"
     ]
    }
   ],
   "source": [
    "maxv = np.iinfo(np.int16).max \n",
    "for path in Test_Noisy_lists[:10]: # Ex: /mnt/hd-02/avse/testing/noisy/engine/1dB/1.wav\n",
    "    S=path.split('\\\\') \n",
    "    # noise=S[-3]\n",
    "    # dB=S[-2]\n",
    "    wave_name=S[1]\n",
    "    noisy, rate  = librosa.load(path,sr=16000) \n",
    "    noisy=noisy.astype('float32')\n",
    "    # print(noisy_list[index],index)\n",
    "    # pdb.set_trace()\n",
    "    D=librosa.stft(noisy,n_fft=512,hop_length=256,win_length=512,center=False)\n",
    "    noisy = np.abs(D)\n",
    "    #轉向因為高固定 但長度不同\n",
    "    noisy = noisy.T\n",
    "    print(noisy.shape)\n",
    "    noisy_shi=np.angle(D)\n",
    "\n",
    "    noisy=np.reshape(noisy,(1,np.shape(noisy)[0],np.shape(noisy)[1]))\n",
    "#     print('reshape====>',noisy.shape)\n",
    "    enhanced=np.squeeze( model.predict(noisy, batch_size=1)).T\n",
    "#     print(enhanced.shape)\n",
    "    Rec = np.multiply(enhanced, np.exp(1j * noisy_shi))\n",
    "    enhanced=librosa.istft(Rec,hop_length=256,win_length=512,center=False)\n",
    "#     enhanced=enhanced/np.max(abs(enhanced))\n",
    "    enhanced=enhanced* maxv\n",
    "    enhanced_2=enhanced.astype('int16')\n",
    "#     enhanced=enhanced/2**15\n",
    "    wavfile.write(os.path.join(\"c:\\\\test\", wave_name),16000,(enhanced).astype(np.int16))"
   ]
  },
  {
   "cell_type": "markdown",
   "metadata": {},
   "source": [
    "### 播放"
   ]
  },
  {
   "cell_type": "code",
   "execution_count": null,
   "metadata": {
    "scrolled": true
   },
   "outputs": [],
   "source": [
    "model = tf.contrib.keras.models.load_model('mixed_pos_snr_raw_1dx7_10epoch.h5')"
   ]
  },
  {
   "cell_type": "code",
   "execution_count": 3,
   "metadata": {
    "scrolled": true
   },
   "outputs": [
    {
     "data": {
      "text/plain": [
       "[<matplotlib.lines.Line2D at 0x22a89e2cdc8>]"
      ]
     },
     "execution_count": 3,
     "metadata": {},
     "output_type": "execute_result"
    },
    {
     "data": {
      "image/png": "[encoded data removed]",
      "text/plain": [
       "<Figure size 432x288 with 1 Axes>"
      ]
     },
     "metadata": {
      "needs_background": "light"
     },
     "output_type": "display_data"
    }
   ],
   "source": [
    "from pyhht.visualization import plot_imfs\n",
    "import matplotlib.pyplot as plt\n",
    "import librosa\n",
    "import librosa.display\n",
    "import IPython.display as ipd\n",
    "\n",
    "path = 'D:\\\\result\\\\mixed_all_snr_STFT_1dx9_15epoch\\\\jiawei_T21-5_20200626_trains_passing1_snr2.wav' \n",
    "data , sr = librosa.load(path,sr=16000) \n",
    "# data = data/abs(data).max()\n",
    "plt.plot(data)\n",
    "# ipd.Audio(data,rate=16000) #播放"
   ]
  },
  {
   "cell_type": "code",
   "execution_count": null,
   "metadata": {
    "scrolled": true
   },
   "outputs": [],
   "source": []
  }
 ],
 "metadata": {
  "kernelspec": {
   "display_name": "venv",
   "language": "python",
   "name": "venv"
  },
  "language_info": {
   "codemirror_mode": {
    "name": "ipython",
    "version": 3
   },
   "file_extension": ".py",
   "mimetype": "text/x-python",
   "name": "python",
   "nbconvert_exporter": "python",
   "pygments_lexer": "ipython3",
   "version": "3.7.6"
  }
 },
 "nbformat": 4,
 "nbformat_minor": 4
}
